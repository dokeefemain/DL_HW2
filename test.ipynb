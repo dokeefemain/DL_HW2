{
 "cells": [
  {
   "cell_type": "code",
   "execution_count": 7,
   "id": "4a0a6f8d",
   "metadata": {},
   "outputs": [],
   "source": [
    "import random\n",
    "import numpy as np\n",
    "from lib.data_utils import load_CIFAR10\n",
    "import matplotlib.pyplot as plt\n",
    "import math\n",
    "from past.builtins import xrange"
   ]
  },
  {
   "cell_type": "code",
   "execution_count": 2,
   "id": "484a2728",
   "metadata": {},
   "outputs": [],
   "source": [
    "cifar10_dir = 'lib/datasets/cifar-10-batches-py'\n",
    "X_train, y_train, X_test, y_test = load_CIFAR10(cifar10_dir)"
   ]
  },
  {
   "cell_type": "code",
   "execution_count": 3,
   "id": "abec49b6",
   "metadata": {},
   "outputs": [],
   "source": [
    "num_training = 5000\n",
    "mask = range(num_training)\n",
    "X_train = X_train[mask]\n",
    "y_train = y_train[mask]\n",
    "\n",
    "num_test = 500\n",
    "mask = list(range(num_test))\n",
    "X_test = X_test[mask]\n",
    "y_test = y_test[mask]"
   ]
  },
  {
   "cell_type": "code",
   "execution_count": 4,
   "id": "aceab227",
   "metadata": {},
   "outputs": [
    {
     "name": "stdout",
     "output_type": "stream",
     "text": [
      "(5000, 3072) (500, 3072)\n"
     ]
    }
   ],
   "source": [
    "X_train = np.reshape(X_train, (X_train.shape[0], -1))\n",
    "X_test = np.reshape(X_test, (X_test.shape[0], -1))\n",
    "print(X_train.shape, X_test.shape)"
   ]
  },
  {
   "cell_type": "code",
   "execution_count": 5,
   "id": "d34ec3a4",
   "metadata": {},
   "outputs": [],
   "source": [
    "def compute_distances_two_loops(X_train, X):\n",
    "    \"\"\"\n",
    "    Compute the distance between each test point in X and each training point\n",
    "    in self.X_train using a nested loop over both the training data and the \n",
    "    test data.\n",
    "\n",
    "    Inputs:\n",
    "    - X: A numpy array of shape (num_test, D) containing test data.\n",
    "\n",
    "    Returns:\n",
    "    - dists: A numpy array of shape (num_test, num_train) where dists[i, j]\n",
    "      is the Euclidean distance between the ith test point and the jth training\n",
    "      point.\n",
    "    \"\"\"\n",
    "    num_test = X.shape[0]\n",
    "    num_train = X_train.shape[0]\n",
    "    dists = np.zeros((num_test, num_train))\n",
    "    for i in xrange(num_test):\n",
    "          for j in xrange(num_train):\n",
    "            #####################################################################\n",
    "            # TODO:                                                             #\n",
    "            # Compute the l2 distance between the ith test point and the jth    #\n",
    "            # training point, and store the result in dists[i, j]. You should   #\n",
    "            # not use a loop over dimension.                                    #\n",
    "            #####################################################################\n",
    "            #L2 sqrt(sum((i1-i2)^2))\n",
    "            dists[i,j] = math.sqrt(np.sum((X[i] - X_train[j])**2))\n",
    "\n",
    "\n",
    "            #####################################################################\n",
    "            #                       END OF YOUR CODE                            #\n",
    "            #####################################################################\n",
    "    return dists"
   ]
  },
  {
   "cell_type": "code",
   "execution_count": 8,
   "id": "67b9b9d6",
   "metadata": {},
   "outputs": [
    {
     "data": {
      "text/plain": [
       "array([[3803.92350081, 4210.59603857, 5504.0544147 , ..., 4007.64756434,\n",
       "        4203.28086142, 4354.20256764],\n",
       "       [6336.83367306, 5270.28006846, 4040.63608854, ..., 4829.15334194,\n",
       "        4694.09767687, 7768.33347636],\n",
       "       [5224.83913628, 4250.64289255, 3773.94581307, ..., 3766.81549853,\n",
       "        4464.99921613, 6353.57190878],\n",
       "       ...,\n",
       "       [5366.93534524, 5062.8772452 , 6361.85774755, ..., 5126.56824786,\n",
       "        4537.30613911, 5920.94156364],\n",
       "       [3671.92919322, 3858.60765044, 4846.88157479, ..., 3521.04515734,\n",
       "        3182.3673578 , 4448.65305458],\n",
       "       [6960.92443573, 6083.71366848, 6338.13442584, ..., 6083.55504619,\n",
       "        4128.24744898, 8041.05223214]])"
      ]
     },
     "execution_count": 8,
     "metadata": {},
     "output_type": "execute_result"
    }
   ],
   "source": [
    "compute_distances_two_loops(X_train,X_test)"
   ]
  },
  {
   "cell_type": "code",
   "execution_count": 21,
   "id": "6227caf5",
   "metadata": {},
   "outputs": [],
   "source": [
    "def compute_distances_one_loop(X_train, X):\n",
    "    \"\"\"\n",
    "    Compute the distance between each test point in X and each training point\n",
    "    in self.X_train using a single loop over the test data.\n",
    "\n",
    "    Input / Output: Same as compute_distances_two_loops\n",
    "    \"\"\"\n",
    "    num_test = X.shape[0]\n",
    "    num_train = X_train.shape[0]\n",
    "    dists = np.zeros((num_test, num_train))\n",
    "    print(dists.shape)\n",
    "    for i in xrange(num_test):\n",
    "        tmp =  (X_train-X[i])**2\n",
    "        dists[i] = np.sqrt(tmp.sum(axis=1))\n",
    "    print(dists)\n",
    "    return dists"
   ]
  },
  {
   "cell_type": "code",
   "execution_count": 71,
   "id": "83feff8b",
   "metadata": {},
   "outputs": [],
   "source": [
    "def compute_distances_no_loops(X_train, X):\n",
    "    \"\"\"\n",
    "    Compute the distance between each test point in X and each training point\n",
    "    in self.X_train using no explicit loops.\n",
    "\n",
    "    Input / Output: Same as compute_distances_two_loops\n",
    "    \"\"\"\n",
    "    num_test = X.shape[0]\n",
    "    num_train = X_train.shape[0]\n",
    "    dists = np.zeros((num_test, num_train))\n",
    "    print(len(dists),len(dists[0]))\n",
    "    train2 = X_train**2\n",
    "    train2 = train2.sum(axis=1)\n",
    "    #np.tile(np.array(idk),(2,1))\n",
    "    tile = np.tile(np.array(train2),(num_test,1))\n",
    "    \n",
    "    test2 = X**2\n",
    "    test2 = test2.sum(axis=1)\n",
    "    \n",
    "    dist_add = tile + np.vstack(test2)\n",
    "    print(len(dist_add),len(dist_add[0]))\n",
    "    \n",
    "    dist_mul = np.dot(X,X_train.transpose())\n",
    "    print(len(dist_mul),len(dist_mul[0]))\n",
    "    \n",
    "    dists = dist_add - 2 * dist_mul\n",
    "    return np.sqrt(dists)"
   ]
  },
  {
   "cell_type": "code",
   "execution_count": 72,
   "id": "83ecddb0",
   "metadata": {},
   "outputs": [
    {
     "name": "stdout",
     "output_type": "stream",
     "text": [
      "500 5000\n",
      "500 5000\n",
      "500 5000\n"
     ]
    },
    {
     "data": {
      "text/plain": [
       "array([[3803.92350081, 4210.59603857, 5504.0544147 , ..., 4007.64756434,\n",
       "        4203.28086142, 4354.20256764],\n",
       "       [6336.83367306, 5270.28006846, 4040.63608854, ..., 4829.15334194,\n",
       "        4694.09767687, 7768.33347636],\n",
       "       [5224.83913628, 4250.64289255, 3773.94581307, ..., 3766.81549853,\n",
       "        4464.99921613, 6353.57190878],\n",
       "       ...,\n",
       "       [5366.93534524, 5062.8772452 , 6361.85774755, ..., 5126.56824786,\n",
       "        4537.30613911, 5920.94156364],\n",
       "       [3671.92919322, 3858.60765044, 4846.88157479, ..., 3521.04515734,\n",
       "        3182.3673578 , 4448.65305458],\n",
       "       [6960.92443573, 6083.71366848, 6338.13442584, ..., 6083.55504619,\n",
       "        4128.24744898, 8041.05223214]])"
      ]
     },
     "execution_count": 72,
     "metadata": {},
     "output_type": "execute_result"
    }
   ],
   "source": [
    "compute_distances_no_loops(X_train, X_test)"
   ]
  },
  {
   "cell_type": "code",
   "execution_count": null,
   "id": "ab10e7bf",
   "metadata": {},
   "outputs": [],
   "source": []
  },
  {
   "cell_type": "code",
   "execution_count": 14,
   "id": "0396f626",
   "metadata": {},
   "outputs": [
    {
     "data": {
      "text/plain": [
       "array([ 5, 30])"
      ]
     },
     "execution_count": 14,
     "metadata": {},
     "output_type": "execute_result"
    }
   ],
   "source": [
    "idk = np.array([[1,2,3,4,5],[6,7,8,9,10]])\n",
    "test = np.array([0,1,2,3,4])\n",
    "tmp = idk-test\n",
    "tmp.sum(axis=1)"
   ]
  },
  {
   "cell_type": "code",
   "execution_count": 15,
   "id": "ed08bfcd",
   "metadata": {},
   "outputs": [
    {
     "data": {
      "text/plain": [
       "array([[1, 1, 1, 1, 1],\n",
       "       [6, 6, 6, 6, 6]])"
      ]
     },
     "execution_count": 15,
     "metadata": {},
     "output_type": "execute_result"
    }
   ],
   "source": [
    "tmp"
   ]
  },
  {
   "cell_type": "code",
   "execution_count": 16,
   "id": "7a738183",
   "metadata": {},
   "outputs": [],
   "source": [
    "dists = np.zeros((test.shape[0],idk.shape[0]))"
   ]
  },
  {
   "cell_type": "code",
   "execution_count": 18,
   "id": "8d764b8b",
   "metadata": {},
   "outputs": [
    {
     "data": {
      "text/plain": [
       "array([0., 0.])"
      ]
     },
     "execution_count": 18,
     "metadata": {},
     "output_type": "execute_result"
    }
   ],
   "source": [
    "dists[1]"
   ]
  },
  {
   "cell_type": "code",
   "execution_count": 23,
   "id": "cd5cea10",
   "metadata": {},
   "outputs": [
    {
     "data": {
      "text/plain": [
       "array([ 5, 25], dtype=int32)"
      ]
     },
     "execution_count": 23,
     "metadata": {},
     "output_type": "execute_result"
    }
   ],
   "source": [
    "idk = np.array([[1,2],[3,4]])\n",
    "idk = idk**2\n",
    "idk = idk.sum(axis=1)\n",
    "idk"
   ]
  },
  {
   "cell_type": "code",
   "execution_count": 52,
   "id": "b8451ef4",
   "metadata": {},
   "outputs": [
    {
     "data": {
      "text/plain": [
       "array([ 5, 25], dtype=int32)"
      ]
     },
     "execution_count": 52,
     "metadata": {},
     "output_type": "execute_result"
    }
   ],
   "source": [
    "idk.transpose()"
   ]
  },
  {
   "cell_type": "code",
   "execution_count": 24,
   "id": "0f4ff453",
   "metadata": {},
   "outputs": [
    {
     "data": {
      "text/plain": [
       "array([ 61, 113], dtype=int32)"
      ]
     },
     "execution_count": 24,
     "metadata": {},
     "output_type": "execute_result"
    }
   ],
   "source": [
    "tmp = np.array([[5,6],[7,8]])\n",
    "tmp = tmp**2\n",
    "tmp = tmp.sum(axis=1)\n",
    "tmp"
   ]
  },
  {
   "cell_type": "code",
   "execution_count": 47,
   "id": "4eb018ad",
   "metadata": {},
   "outputs": [
    {
     "data": {
      "text/plain": [
       "array([[ 5, 25],\n",
       "       [ 5, 25]], dtype=int32)"
      ]
     },
     "execution_count": 47,
     "metadata": {},
     "output_type": "execute_result"
    }
   ],
   "source": [
    "np.tile(np.array(idk),(2,1))"
   ]
  },
  {
   "cell_type": "code",
   "execution_count": null,
   "id": "459b1c1a",
   "metadata": {},
   "outputs": [],
   "source": [
    "def predict_labels(self, dists, k=1):\n",
    "    \"\"\"\n",
    "    Given a matrix of distances between test points and training points,\n",
    "    predict a label for each test point.\n",
    "\n",
    "    Inputs:\n",
    "    - dists: A numpy array of shape (num_test, num_train) where dists[i, j]\n",
    "      gives the distance betwen the ith test point and the jth training point.\n",
    "\n",
    "    Returns:\n",
    "    - y: A numpy array of shape (num_test,) containing predicted labels for the\n",
    "      test data, where y[i] is the predicted label for the test point X[i].  \n",
    "    \"\"\"\n",
    "    num_test = dists.shape[0]\n",
    "    y_pred = np.zeros(num_test)\n",
    "    for i in xrange(num_test):\n",
    "\n",
    "        # A list of length k storing the labels of the k nearest neighbors to\n",
    "        # the ith test point.\n",
    "        closest_y = []\n",
    "        #########################################################################\n",
    "        # TODO:                                                                 #\n",
    "        # Use the distance matrix to find the k nearest neighbors of the ith    #\n",
    "        # testing point, and use self.y_train to find the labels of these       #\n",
    "        # neighbors. Store these labels in closest_y.                           #\n",
    "        # Hint: Look up the function numpy.argsort.                             #\n",
    "        #########################################################################\n",
    "        tmp = np.argsort(dists[i])[:k]\n",
    "        closest_y = np.take(self.y_train,tmp)\n",
    "\n",
    "\n",
    "\n",
    "\n",
    "        #########################################################################\n",
    "        # TODO:                                                                 #\n",
    "        # Now that you have found the labels of the k nearest neighbors, you    #\n",
    "        # need to find the most common label in the list closest_y of labels.   #\n",
    "        # Store this label in y_pred[i]. Break ties by choosing the smaller     #\n",
    "        # label.                                                                #\n",
    "        #########################################################################\n",
    "        values, counts = np.unique(closest_y, return_counts=True)\n",
    "        \n",
    "        y_pred[i] = closest_y[np.argmax(counts)]\n",
    "\n",
    "\n",
    "\n",
    "        #########################################################################\n",
    "        #                           END OF YOUR CODE                            # \n",
    "        #########################################################################\n",
    "\n",
    "    return y_pred"
   ]
  },
  {
   "cell_type": "code",
   "execution_count": 75,
   "id": "69448d37",
   "metadata": {},
   "outputs": [
    {
     "data": {
      "text/plain": [
       "1"
      ]
     },
     "execution_count": 75,
     "metadata": {},
     "output_type": "execute_result"
    }
   ],
   "source": [
    "tmp = np.array([1,1,2,1,3])\n",
    "np.take(tmp,[1,2,3])\n",
    "values, counts = np.unique(tmp, return_counts=True)\n",
    "tmp[np.argmax(counts)]\n"
   ]
  },
  {
   "cell_type": "code",
   "execution_count": 8,
   "id": "a5e2b531",
   "metadata": {},
   "outputs": [
    {
     "name": "stdout",
     "output_type": "stream",
     "text": [
      "[1 2 3 4 5] [3 3 1 1 1]\n"
     ]
    },
    {
     "data": {
      "text/plain": [
       "1"
      ]
     },
     "execution_count": 8,
     "metadata": {},
     "output_type": "execute_result"
    }
   ],
   "source": [
    "import numpy as np\n",
    "test = [2,3,4,1,5,2,1,2,1]\n",
    "values, counts = np.unique(test, return_counts=True)\n",
    "print(values,counts)\n",
    "values[np.argmax(counts)]"
   ]
  }
 ],
 "metadata": {
  "kernelspec": {
   "display_name": "Python 3 (ipykernel)",
   "language": "python",
   "name": "python3"
  },
  "language_info": {
   "codemirror_mode": {
    "name": "ipython",
    "version": 3
   },
   "file_extension": ".py",
   "mimetype": "text/x-python",
   "name": "python",
   "nbconvert_exporter": "python",
   "pygments_lexer": "ipython3",
   "version": "3.7.1"
  }
 },
 "nbformat": 4,
 "nbformat_minor": 5
}
